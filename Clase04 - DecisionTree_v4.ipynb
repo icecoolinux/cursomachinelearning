{
 "cells": [
  {
   "cell_type": "markdown",
   "metadata": {},
   "source": [
    "# Objetivo: Predecir si una persona es saludable o no"
   ]
  },
  {
   "cell_type": "markdown",
   "metadata": {},
   "source": [
    "## Obtención del dataset y limpio datos"
   ]
  },
  {
   "cell_type": "code",
   "execution_count": null,
   "metadata": {},
   "outputs": [],
   "source": [
    "# Dataset sobre factores de riesgo, encuesta a 400.000 personas.\n",
    "# https://www.kaggle.com/cdc/behavioral-risk-factor-surveillance-system\n",
    "\n",
    "import numpy as np\n",
    "import pandas as pd\n",
    "\n",
    "#url = \"https://seafile.innova.antel.net.uy/f/e7e8270c549f49a8b898/?dl=1\"\n",
    "#url = './data/2015_health.csv'\n",
    "\n",
    "url = \"https://seafile.innova.antel.net.uy/f/4737172cc5274f539367/?dl=1\"\n",
    "#url = './data/2015_health_lite.csv'\n",
    "\n",
    "df = pd.read_csv(url)\n",
    "\n",
    "# Si queremos tomar una muestra del dataset.\n",
    "#df = df.sample(10000)\n",
    "\n",
    "df.head()"
   ]
  },
  {
   "cell_type": "code",
   "execution_count": null,
   "metadata": {},
   "outputs": [],
   "source": [
    "# Realizo cambios al dataset, en produccion estos cambios se hacen antes de predecir con el modelo.\n",
    "\n",
    "# Selecciono features numéricos.\n",
    "df = df.select_dtypes('number')\n",
    "\n",
    "# Selecciono feature para ser utilizada como target.\n",
    "# 0 indica que es una persona poco saludable.\n",
    "# 1 es una persona saludable.\n",
    "df['_RFHLTH'] = df['_RFHLTH'].replace({2: 0})\n",
    "df = df.loc[df['_RFHLTH'].isin([0, 1])].copy()\n",
    "df = df.rename(columns = {'_RFHLTH': 'label'})\n",
    "df['label'].value_counts()\n",
    "\n",
    "# Quito columas sin valores.\n",
    "df = df.drop(columns = ['POORHLTH', 'PHYSHLTH', 'GENHLTH', 'PAINACT2',\n",
    "                        'QLMENTL2', 'QLSTRES2', 'QLHLTH2', 'HLTHPLN1', 'MENTHLTH'])"
   ]
  },
  {
   "cell_type": "code",
   "execution_count": null,
   "metadata": {},
   "outputs": [],
   "source": [
    "# Antes de comenzar separamos nuestro dataset en train y test.\n",
    "\n",
    "from sklearn.model_selection import train_test_split\n",
    "\n",
    "# Extraigo labels\n",
    "labels = np.array(df.pop('label'))\n",
    "\n",
    "X_train, X_test, y_train, y_test = train_test_split(df, labels, test_size=0.30)\n"
   ]
  },
  {
   "cell_type": "code",
   "execution_count": null,
   "metadata": {},
   "outputs": [],
   "source": [
    "\n",
    "# Obtengo columnas donde todas no tienen valor.\n",
    "columns_null = X_train.isnull().all()\n",
    "\n",
    "columns_drop = [] # Guardarme esta lista de columnas para no considerarlas en el modelo final.\n",
    "for col in df.columns:\n",
    "    if columns_null[col]:\n",
    "        columns_drop.append(col)\n",
    "        \n",
    "# Quito columas sin valores.\n",
    "X_train = X_train.drop(columns = columns_drop)\n",
    "X_test = X_test.drop(columns = columns_drop)"
   ]
  },
  {
   "cell_type": "code",
   "execution_count": null,
   "metadata": {},
   "outputs": [],
   "source": [
    "# Relleno valores vacios o nulos con el promedio de la columna.\n",
    "mean = X_train.mean()\n",
    "X_train = X_train.fillna(mean)\n",
    "\n",
    "X_test = X_test.fillna(mean) # Hacer esto en produccion, guardarme mean"
   ]
  },
  {
   "cell_type": "markdown",
   "metadata": {},
   "source": [
    "## Construcción de la solución"
   ]
  },
  {
   "cell_type": "code",
   "execution_count": null,
   "metadata": {},
   "outputs": [],
   "source": [
    "from sklearn.tree import DecisionTreeClassifier\n",
    "\n",
    "tree = DecisionTreeClassifier(max_depth=30, random_state=0)\n",
    "\n",
    "tree.fit(X_train, y_train)\n",
    "\n",
    "print(f'Decision tree has {tree.tree_.node_count} nodes with maximum depth {tree.tree_.max_depth}.')"
   ]
  },
  {
   "cell_type": "code",
   "execution_count": null,
   "metadata": {},
   "outputs": [],
   "source": [
    "print(\"Train mean accuracy: \", tree.score(X_train, y_train))\n",
    "print(\"Test mean accuracy: \", tree.score(X_test, y_test))"
   ]
  },
  {
   "cell_type": "markdown",
   "metadata": {},
   "source": [
    "## Random Forest"
   ]
  },
  {
   "cell_type": "code",
   "execution_count": null,
   "metadata": {},
   "outputs": [],
   "source": [
    "from sklearn.ensemble import RandomForestClassifier\n",
    "\n",
    "forest = RandomForestClassifier(n_estimators=10, random_state=1)\n",
    "\n",
    "forest.fit(X_train, y_train)\n"
   ]
  },
  {
   "cell_type": "code",
   "execution_count": null,
   "metadata": {},
   "outputs": [],
   "source": [
    "n_nodes = []\n",
    "max_depths = []\n",
    "\n",
    "for ind_tree in forest.estimators_:\n",
    "    n_nodes.append(ind_tree.tree_.node_count)\n",
    "    max_depths.append(ind_tree.tree_.max_depth)\n",
    "    \n",
    "print(f'Average number of nodes {int(np.mean(n_nodes))}')\n",
    "print(f'Average maximum depth {int(np.mean(max_depths))}')"
   ]
  },
  {
   "cell_type": "code",
   "execution_count": null,
   "metadata": {},
   "outputs": [],
   "source": [
    "print(\"Train mean accuracy: \", forest.score(X_train, y_train))\n",
    "print(\"Test mean accuracy: \", forest.score(X_test, y_test))"
   ]
  },
  {
   "cell_type": "code",
   "execution_count": null,
   "metadata": {},
   "outputs": [],
   "source": []
  }
 ],
 "metadata": {
  "kernelspec": {
   "display_name": "Python 3",
   "language": "python",
   "name": "python3"
  },
  "language_info": {
   "codemirror_mode": {
    "name": "ipython",
    "version": 3
   },
   "file_extension": ".py",
   "mimetype": "text/x-python",
   "name": "python",
   "nbconvert_exporter": "python",
   "pygments_lexer": "ipython3",
   "version": "3.7.7"
  }
 },
 "nbformat": 4,
 "nbformat_minor": 2
}
